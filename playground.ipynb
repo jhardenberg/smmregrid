{
 "cells": [
  {
   "attachments": {},
   "cell_type": "markdown",
   "metadata": {},
   "source": [
    "# Tests for SMM versus CDO\n",
    "\n",
    "There are a few tests to check if the SMM approach is faster than the CDO one and if it is reliable. Encouraging results below, although tested only on 2D data so far."
   ]
  },
  {
   "cell_type": "code",
   "execution_count": 1,
   "metadata": {},
   "outputs": [],
   "source": [
    "from time import time\n",
    "import timeit\n",
    "import os\n",
    "import numpy as np\n",
    "import xarray as xr\n",
    "from smmregrid import cdo_generate_weights, Regridder\n",
    "from smmregrid.checker import check_cdo_regrid # this is a new function introduced to verify the output\n",
    "from cdo import Cdo\n",
    "cdo = Cdo()\n",
    "\n",
    "# where and which the data are\n",
    "indir='tests/data'\n",
    "filelist = ['onlytos-ipsl.nc','tas-ecearth.nc', '2t-era5.nc','tos-fesom.nc']\n",
    "tfile = os.path.join(indir, 'r360x180.nc')\n",
    "\n",
    "# method for remapping\n",
    "methods = ['nn','con']"
   ]
  },
  {
   "attachments": {},
   "cell_type": "markdown",
   "metadata": {},
   "source": [
    "This is to verify that the regridding is equal: this is done by comparing the output from CDO to the output obtained by SMM. \n",
    "The files to be checked are above."
   ]
  },
  {
   "cell_type": "code",
   "execution_count": 2,
   "metadata": {},
   "outputs": [
    {
     "name": "stdout",
     "output_type": "stream",
     "text": [
      "['tos']\n",
      "onlytos-ipsl.nc: remapnn->True\n",
      "['tos']\n",
      "onlytos-ipsl.nc: remapcon->True\n",
      "['tas']\n",
      "tas-ecearth.nc: remapnn->True\n",
      "['tas']\n",
      "tas-ecearth.nc: remapcon->True\n",
      "['2t']\n",
      "2t-era5.nc: remapnn->True\n",
      "['2t']\n",
      "2t-era5.nc: remapcon->True\n",
      "['tos']\n",
      "tos-fesom.nc: remapnn->True\n",
      "['tos']\n",
      "tos-fesom.nc: remapcon->True\n"
     ]
    }
   ],
   "source": [
    "\n",
    "for filein in filelist: \n",
    "    for method in methods :\n",
    "        cc = check_cdo_regrid(os.path.join(indir,filein), tfile, method = method)\n",
    "        print(filein + ': remap' + method + '->' + str(cc))\n"
   ]
  },
  {
   "attachments": {},
   "cell_type": "markdown",
   "metadata": {},
   "source": [
    "Test the different weights generation possibilities with CDO, tested with conservative remapping: the climtas code is way more efficient if files are already on the disk, since the call to CDO has to be done from file. CDO bindings have a minimum overhead to be considered"
   ]
  },
  {
   "cell_type": "code",
   "execution_count": 3,
   "metadata": {},
   "outputs": [
    {
     "name": "stdout",
     "output_type": "stream",
     "text": [
      "onlytos-ipsl.nc: Exectime climtas from file 1.7797725904034452\n",
      "onlytos-ipsl.nc: Exectime climtas from xarray 1.9583635907853023\n",
      "onlytos-ipsl.nc: Exectime cdo from file 1.860802805610001\n",
      "tas-ecearth.nc: Exectime climtas from file 0.958152796397917\n",
      "tas-ecearth.nc: Exectime climtas from xarray 1.2780904907966033\n",
      "tas-ecearth.nc: Exectime cdo from file 1.0990737908054142\n",
      "2t-era5.nc: Exectime climtas from file 0.49766466959845274\n",
      "2t-era5.nc: Exectime climtas from xarray 0.5890101308003068\n",
      "2t-era5.nc: Exectime cdo from file 0.6149559417972341\n",
      "tos-fesom.nc: Exectime climtas from file 3.5004765935940667\n",
      "tos-fesom.nc: Exectime climtas from xarray 5.121664120396599\n",
      "tos-fesom.nc: Exectime cdo from file 3.643564500613138\n"
     ]
    }
   ],
   "source": [
    "# nrepetition for the check\n",
    "nr = 5\n",
    "\n",
    "\n",
    "# generate weights from file\n",
    "for filein in filelist: \n",
    " \n",
    "    # open file\n",
    "    xfield = xr.open_mfdataset(os.path.join(indir,filein))\n",
    "    tfield = xr.open_mfdataset(tfile)\n",
    "\n",
    "    # generate weights from file\n",
    "    one = timeit.timeit(lambda: cdo_generate_weights(os.path.join(indir,filein), tfile, method = 'con'), number = nr)\n",
    "    print(filein + ': Exectime climtas from file ' + str(one/nr))\n",
    "    # generate weights from xarray\n",
    "    two = timeit.timeit(lambda: cdo_generate_weights(xfield, tfield, method = 'con'), number = nr)\n",
    "    print(filein + ': Exectime climtas from xarray ' + str(two/nr))\n",
    "    # generatre weights with CDO bindings (from file)\n",
    "    three = timeit.timeit(lambda: cdo.gencon(tfile, input = os.path.join(indir,filein), returnXDataset = True), number = nr)\n",
    "    print(filein + ': Exectime cdo from file ' + str(three/nr))\n"
   ]
  },
  {
   "attachments": {},
   "cell_type": "markdown",
   "metadata": {},
   "source": [
    "Test the full remap (generation of the weight + applicaton) of CDO vs SMM. Results seems very much comparable!"
   ]
  },
  {
   "cell_type": "code",
   "execution_count": 4,
   "metadata": {},
   "outputs": [
    {
     "name": "stdout",
     "output_type": "stream",
     "text": [
      "onlytos-ipsl.nc: Exectime CDO Weight+Remap 1.80319197261706\n",
      "onlytos-ipsl.nc: Exectime SMM Weight+Remap 1.8579165945993736\n",
      "tas-ecearth.nc: Exectime CDO Weight+Remap 1.104606278403662\n",
      "tas-ecearth.nc: Exectime SMM Weight+Remap 1.0557268365984782\n",
      "2t-era5.nc: Exectime CDO Weight+Remap 0.6187339887954295\n",
      "2t-era5.nc: Exectime SMM Weight+Remap 0.557701671589166\n",
      "tos-fesom.nc: Exectime CDO Weight+Remap 3.475422440189868\n",
      "tos-fesom.nc: Exectime SMM Weight+Remap 3.6063115095952525\n"
     ]
    }
   ],
   "source": [
    "# nrepetition for the check\n",
    "nr = 5\n",
    "\n",
    "def smm_remap(ifile, tfile):\n",
    "\n",
    "    xfield = xr.open_mfdataset(ifile)\n",
    "    wfield = cdo_generate_weights(ifile, tfile, method = 'con')\n",
    "    interpolator = Regridder(weights=wfield)\n",
    "    var = list(xfield.data_vars)[-1]\n",
    "    rfield = interpolator.regrid(xfield)\n",
    "    return(rfield)\n",
    "\n",
    "for filein in filelist: \n",
    "\n",
    "    one = timeit.timeit(lambda: cdo.remapcon(tfile, input = os.path.join(indir,filein), returnXDataset = True), number = nr)\n",
    "    print(filein + ': Exectime CDO Weight+Remap ' + str(one/nr))\n",
    "    two = timeit.timeit(lambda: smm_remap(os.path.join(indir,filein), tfile), number = nr)\n",
    "    print(filein + ': Exectime SMM Weight+Remap ' + str(two/nr))\n"
   ]
  },
  {
   "attachments": {},
   "cell_type": "markdown",
   "metadata": {},
   "source": [
    "Test the computation of the remap when the weights are pre-computed. Considering that SMM does not have to write anything to disk, it is several times faster. However, once we have introduced the masking, we lost almost a factor of two. "
   ]
  },
  {
   "cell_type": "code",
   "execution_count": 4,
   "metadata": {},
   "outputs": [
    {
     "name": "stdout",
     "output_type": "stream",
     "text": [
      "onlytos-ipsl.nc: Exectime CDO Remap 0.2543602315010503\n",
      "onlytos-ipsl.nc: Exectime SMM Remap 0.05708544449880719\n",
      "tas-ecearth.nc: Exectime CDO Remap 0.24985597220947967\n",
      "tas-ecearth.nc: Exectime SMM Remap 0.06356588089838625\n",
      "2t-era5.nc: Exectime CDO Remap 0.19433286940911784\n",
      "2t-era5.nc: Exectime SMM Remap 0.03430949010653421\n",
      "tos-fesom.nc: Exectime CDO Remap 0.45873337949160486\n",
      "tos-fesom.nc: Exectime SMM Remap 0.06254725940525532\n"
     ]
    }
   ],
   "source": [
    "# nrepetition for the check\n",
    "nr = 10\n",
    "\n",
    "for filein in filelist: \n",
    "\n",
    "    # CDO\n",
    "    wfile = cdo.gencon(tfile, input = os.path.join(indir,filein))\n",
    "    one = timeit.timeit(lambda: cdo.remap(tfile + ',' + wfile, input = os.path.join(indir,filein), returnXDataset = True), number = nr)\n",
    "    print(filein + ': Exectime CDO Remap ' + str(one/nr))\n",
    "\n",
    "    # SMM\n",
    "    xfield = xr.open_mfdataset(os.path.join(indir,filein))\n",
    "    wfield = cdo_generate_weights(os.path.join(indir,filein), tfile, method = 'con')\n",
    "    interpolator = Regridder(weights=wfield)\n",
    "    two = timeit.timeit(lambda: interpolator.regrid(xfield), number = nr)\n",
    "    print(filein + ': Exectime SMM Remap ' + str(two/nr))"
   ]
  }
 ],
 "metadata": {
  "kernelspec": {
   "display_name": "DevECmean4",
   "language": "python",
   "name": "python3"
  },
  "language_info": {
   "codemirror_mode": {
    "name": "ipython",
    "version": 3
   },
   "file_extension": ".py",
   "mimetype": "text/x-python",
   "name": "python",
   "nbconvert_exporter": "python",
   "pygments_lexer": "ipython3",
   "version": "3.10.8"
  },
  "orig_nbformat": 4,
  "vscode": {
   "interpreter": {
    "hash": "d1a27f430e855354fabe9b58ad426cbc88af57f8b66247655f5de977d5b44f64"
   }
  }
 },
 "nbformat": 4,
 "nbformat_minor": 2
}
