{
 "cells": [
  {
   "attachments": {},
   "cell_type": "markdown",
   "metadata": {},
   "source": [
    "# Tests for SMM versus CDO\n",
    "\n",
    "There are a few tests to check if the SMM approach is faster than the CDO one and if it is reliable in terms of output. Encouraging results below, although tested only on 2D data so far."
   ]
  },
  {
   "cell_type": "code",
   "execution_count": 1,
   "metadata": {},
   "outputs": [],
   "source": [
    "from time import time\n",
    "import timeit\n",
    "import os\n",
    "import numpy as np\n",
    "import xarray as xr\n",
    "from smmregrid import cdo_generate_weights, Regridder\n",
    "from smmregrid.checker import check_cdo_regrid # this is a new function introduced to verify the output\n",
    "from cdo import Cdo\n",
    "import pandas as pd\n",
    "cdo = Cdo()\n",
    "\n",
    "# where and which the data are\n",
    "indir='tests/data'\n",
    "filelist = ['onlytos-ipsl.nc','tas-ecearth.nc', '2t-era5.nc','tos-fesom.nc']\n",
    "tfile = os.path.join(indir, 'r360x180.nc')\n",
    "\n",
    "# method for remapping\n",
    "methods = ['nn','con']\n",
    "accesses = ['DataArray', 'Dataset']"
   ]
  },
  {
   "attachments": {},
   "cell_type": "markdown",
   "metadata": {},
   "source": [
    "## Robustness test\n",
    "\n",
    "This is to verify that the regridding is equal: this is done by comparing the output from CDO to the output obtained by SMM. \n",
    "The files to be checked are above. This is the same as the thing done in the tests."
   ]
  },
  {
   "cell_type": "code",
   "execution_count": 2,
   "metadata": {},
   "outputs": [
    {
     "name": "stdout",
     "output_type": "stream",
     "text": [
      "onlytos-ipsl.nc: remapnn via DataArray->True\n",
      "onlytos-ipsl.nc: remapnn via Dataset->True\n",
      "onlytos-ipsl.nc: remapcon via DataArray->True\n",
      "onlytos-ipsl.nc: remapcon via Dataset->True\n",
      "tas-ecearth.nc: remapnn via DataArray->True\n",
      "tas-ecearth.nc: remapnn via Dataset->True\n",
      "tas-ecearth.nc: remapcon via DataArray->True\n",
      "tas-ecearth.nc: remapcon via Dataset->True\n",
      "2t-era5.nc: remapnn via DataArray->True\n",
      "2t-era5.nc: remapnn via Dataset->True\n",
      "2t-era5.nc: remapcon via DataArray->True\n",
      "2t-era5.nc: remapcon via Dataset->True\n",
      "tos-fesom.nc: remapnn via DataArray->True\n",
      "tos-fesom.nc: remapnn via Dataset->True\n",
      "tos-fesom.nc: remapcon via DataArray->True\n",
      "tos-fesom.nc: remapcon via Dataset->True\n"
     ]
    }
   ],
   "source": [
    "\n",
    "for filein in filelist: \n",
    "    for method in methods:\n",
    "        for access in accesses: \n",
    "            cc = check_cdo_regrid(os.path.join(indir,filein), tfile, method = method, access = access)\n",
    "            print(filein + ': remap' + method + ' via ' + access + ' -> ' + str(cc))\n"
   ]
  },
  {
   "attachments": {},
   "cell_type": "markdown",
   "metadata": {},
   "source": [
    "## Weight generation\n",
    "\n",
    "Test the different weights generation possibilities with CDO, tested with conservative remapping: the climtas code is way more efficient if files are already on the disk, since the call to CDO has to be done from file. CDO bindings have a minimum overhead to be considered"
   ]
  },
  {
   "cell_type": "code",
   "execution_count": 3,
   "metadata": {},
   "outputs": [
    {
     "data": {
      "text/html": [
       "<div>\n",
       "<style scoped>\n",
       "    .dataframe tbody tr th:only-of-type {\n",
       "        vertical-align: middle;\n",
       "    }\n",
       "\n",
       "    .dataframe tbody tr th {\n",
       "        vertical-align: top;\n",
       "    }\n",
       "\n",
       "    .dataframe thead th {\n",
       "        text-align: right;\n",
       "    }\n",
       "</style>\n",
       "<table border=\"1\" class=\"dataframe\">\n",
       "  <thead>\n",
       "    <tr style=\"text-align: right;\">\n",
       "      <th></th>\n",
       "      <th>CDO binding</th>\n",
       "      <th>CDO subprocess (from file)</th>\n",
       "      <th>CDO subprocess (from xarray)</th>\n",
       "    </tr>\n",
       "  </thead>\n",
       "  <tbody>\n",
       "    <tr>\n",
       "      <th>onlytos-ipsl.nc</th>\n",
       "      <td>1.0</td>\n",
       "      <td>0.948454</td>\n",
       "      <td>1.045684</td>\n",
       "    </tr>\n",
       "    <tr>\n",
       "      <th>tas-ecearth.nc</th>\n",
       "      <td>1.0</td>\n",
       "      <td>0.914512</td>\n",
       "      <td>1.195513</td>\n",
       "    </tr>\n",
       "    <tr>\n",
       "      <th>2t-era5.nc</th>\n",
       "      <td>1.0</td>\n",
       "      <td>0.803809</td>\n",
       "      <td>0.961959</td>\n",
       "    </tr>\n",
       "    <tr>\n",
       "      <th>tos-fesom.nc</th>\n",
       "      <td>1.0</td>\n",
       "      <td>0.992282</td>\n",
       "      <td>1.425957</td>\n",
       "    </tr>\n",
       "  </tbody>\n",
       "</table>\n",
       "</div>"
      ],
      "text/plain": [
       "                 CDO binding  CDO subprocess (from file)  \\\n",
       "onlytos-ipsl.nc          1.0                    0.948454   \n",
       "tas-ecearth.nc           1.0                    0.914512   \n",
       "2t-era5.nc               1.0                    0.803809   \n",
       "tos-fesom.nc             1.0                    0.992282   \n",
       "\n",
       "                 CDO subprocess (from xarray)  \n",
       "onlytos-ipsl.nc                      1.045684  \n",
       "tas-ecearth.nc                       1.195513  \n",
       "2t-era5.nc                           0.961959  \n",
       "tos-fesom.nc                         1.425957  "
      ]
     },
     "execution_count": 3,
     "metadata": {},
     "output_type": "execute_result"
    }
   ],
   "source": [
    "# nrepetition for the check\n",
    "nr = 5\n",
    "\n",
    "\n",
    "# generate weights from file\n",
    "data = []\n",
    "for filein in filelist: \n",
    " \n",
    "    # open file\n",
    "    xfield = xr.open_mfdataset(os.path.join(indir,filein))\n",
    "    tfield = xr.open_mfdataset(tfile)\n",
    "\n",
    "    # generate weights from file\n",
    "    one = timeit.timeit(lambda: cdo_generate_weights(os.path.join(indir,filein), tfile, method = 'con'), number = nr)\n",
    "    #print(filein + ': Exectime climtas from file ' + str(one/nr))\n",
    "    # generate weights from xarray\n",
    "    two = timeit.timeit(lambda: cdo_generate_weights(xfield, tfield, method = 'con'), number = nr)\n",
    "    #print(filein + ': Exectime climtas from xarray ' + str(two/nr))\n",
    "    # generatre weights with CDO bindings (from file)\n",
    "    three = timeit.timeit(lambda: cdo.gencon(tfile, input = os.path.join(indir,filein), returnXDataset = True), number = nr)\n",
    "    #print(filein + ': Exectime cdo from file ' + str(three/nr))\n",
    "    data.append([three, one, two])\n",
    "\n",
    "cnames = ['CDO bindings', 'CDO subprocess (from file)', 'CDO subprocess (from xarray)']\n",
    "df = pd.DataFrame(data, index = filelist, columns = cnames)\n",
    "df.div(df[cnames[0]],axis =0)\n"
   ]
  },
  {
   "attachments": {},
   "cell_type": "markdown",
   "metadata": {},
   "source": [
    "## Full remapping \n",
    "\n",
    "Test the full remap (generation of the weight + applicaton) of CDO vs SMM. Results seems very much comparable!"
   ]
  },
  {
   "cell_type": "code",
   "execution_count": 4,
   "metadata": {},
   "outputs": [
    {
     "data": {
      "text/html": [
       "<div>\n",
       "<style scoped>\n",
       "    .dataframe tbody tr th:only-of-type {\n",
       "        vertical-align: middle;\n",
       "    }\n",
       "\n",
       "    .dataframe tbody tr th {\n",
       "        vertical-align: top;\n",
       "    }\n",
       "\n",
       "    .dataframe thead th {\n",
       "        text-align: right;\n",
       "    }\n",
       "</style>\n",
       "<table border=\"1\" class=\"dataframe\">\n",
       "  <thead>\n",
       "    <tr style=\"text-align: right;\">\n",
       "      <th></th>\n",
       "      <th>CDO (Weight+Remap)</th>\n",
       "      <th>SMM (Weight+Remap)</th>\n",
       "    </tr>\n",
       "  </thead>\n",
       "  <tbody>\n",
       "    <tr>\n",
       "      <th>onlytos-ipsl.nc</th>\n",
       "      <td>1.0</td>\n",
       "      <td>1.036512</td>\n",
       "    </tr>\n",
       "    <tr>\n",
       "      <th>tas-ecearth.nc</th>\n",
       "      <td>1.0</td>\n",
       "      <td>0.979539</td>\n",
       "    </tr>\n",
       "    <tr>\n",
       "      <th>2t-era5.nc</th>\n",
       "      <td>1.0</td>\n",
       "      <td>0.932578</td>\n",
       "    </tr>\n",
       "    <tr>\n",
       "      <th>tos-fesom.nc</th>\n",
       "      <td>1.0</td>\n",
       "      <td>1.024755</td>\n",
       "    </tr>\n",
       "  </tbody>\n",
       "</table>\n",
       "</div>"
      ],
      "text/plain": [
       "                 CDO (Weight+Remap)  SMM (Weight+Remap)\n",
       "onlytos-ipsl.nc                 1.0            1.036512\n",
       "tas-ecearth.nc                  1.0            0.979539\n",
       "2t-era5.nc                      1.0            0.932578\n",
       "tos-fesom.nc                    1.0            1.024755"
      ]
     },
     "execution_count": 4,
     "metadata": {},
     "output_type": "execute_result"
    }
   ],
   "source": [
    "# nrepetition for the check\n",
    "nr = 5\n",
    "\n",
    "# fast function to call the entire interpolation\n",
    "def smm_remap(ifile, tfile):\n",
    "\n",
    "    xfield = xr.open_mfdataset(ifile)\n",
    "    wfield = cdo_generate_weights(ifile, tfile, method = 'con')\n",
    "    interpolator = Regridder(weights=wfield)\n",
    "    var = list(xfield.data_vars)[-1]\n",
    "    rfield = interpolator.regrid(xfield)\n",
    "    return(rfield)\n",
    "\n",
    "data =[]\n",
    "for filein in filelist: \n",
    "\n",
    "    one = timeit.timeit(lambda: cdo.remapcon(tfile, input = os.path.join(indir,filein), returnXDataset = True), number = nr)\n",
    "    #print(filein + ': Exectime CDO Weight+Remap ' + str(one/nr))\n",
    "    two = timeit.timeit(lambda: smm_remap(os.path.join(indir,filein), tfile), number = nr)\n",
    "    #print(filein + ': Exectime SMM Weight+Remap ' + str(two/nr))\n",
    "    data.append([one, two])\n",
    "\n",
    "cnames = ['CDO (Weight+Remap)', 'SMM (Weight+Remap)']\n",
    "df = pd.DataFrame(data, index = filelist, columns = cnames)\n",
    "df.div(df[cnames[0]],axis =0)\n"
   ]
  },
  {
   "attachments": {},
   "cell_type": "markdown",
   "metadata": {},
   "source": [
    "# Remapping (with weights available)\n",
    "\n",
    "This is the real goal of smmregrid. Here we test the computation of the remap when the weights are pre-computed. Considering that SMM does not have to write anything to disk, it is several times faster, between 5 to 10. Running with Dataset implies a bit of overhead (20%). Masks so far does not seem to be an issue."
   ]
  },
  {
   "cell_type": "code",
   "execution_count": 5,
   "metadata": {},
   "outputs": [
    {
     "data": {
      "text/html": [
       "<div>\n",
       "<style scoped>\n",
       "    .dataframe tbody tr th:only-of-type {\n",
       "        vertical-align: middle;\n",
       "    }\n",
       "\n",
       "    .dataframe tbody tr th {\n",
       "        vertical-align: top;\n",
       "    }\n",
       "\n",
       "    .dataframe thead th {\n",
       "        text-align: right;\n",
       "    }\n",
       "</style>\n",
       "<table border=\"1\" class=\"dataframe\">\n",
       "  <thead>\n",
       "    <tr style=\"text-align: right;\">\n",
       "      <th></th>\n",
       "      <th>CDO</th>\n",
       "      <th>SMM (Dataset)</th>\n",
       "      <th>SMM (DataArray)</th>\n",
       "      <th>SMM (DataSet+NoMask)</th>\n",
       "    </tr>\n",
       "  </thead>\n",
       "  <tbody>\n",
       "    <tr>\n",
       "      <th>onlytos-ipsl.nc</th>\n",
       "      <td>1.0</td>\n",
       "      <td>0.204161</td>\n",
       "      <td>0.181773</td>\n",
       "      <td>0.182117</td>\n",
       "    </tr>\n",
       "    <tr>\n",
       "      <th>tas-ecearth.nc</th>\n",
       "      <td>1.0</td>\n",
       "      <td>0.261651</td>\n",
       "      <td>0.216279</td>\n",
       "      <td>0.207980</td>\n",
       "    </tr>\n",
       "    <tr>\n",
       "      <th>2t-era5.nc</th>\n",
       "      <td>1.0</td>\n",
       "      <td>0.176852</td>\n",
       "      <td>0.144768</td>\n",
       "      <td>0.110618</td>\n",
       "    </tr>\n",
       "    <tr>\n",
       "      <th>tos-fesom.nc</th>\n",
       "      <td>1.0</td>\n",
       "      <td>0.127521</td>\n",
       "      <td>0.107123</td>\n",
       "      <td>0.109413</td>\n",
       "    </tr>\n",
       "  </tbody>\n",
       "</table>\n",
       "</div>"
      ],
      "text/plain": [
       "                 CDO  SMM (Dataset)  SMM (DataArray)  SMM (DataSet+NoMask)\n",
       "onlytos-ipsl.nc  1.0       0.204161         0.181773              0.182117\n",
       "tas-ecearth.nc   1.0       0.261651         0.216279              0.207980\n",
       "2t-era5.nc       1.0       0.176852         0.144768              0.110618\n",
       "tos-fesom.nc     1.0       0.127521         0.107123              0.109413"
      ]
     },
     "execution_count": 5,
     "metadata": {},
     "output_type": "execute_result"
    }
   ],
   "source": [
    "# nrepetition for the check\n",
    "nr = 10\n",
    "\n",
    "data =[]\n",
    "for filein in filelist: \n",
    "\n",
    "    # CDO\n",
    "    wfile = cdo.gencon(tfile, input = os.path.join(indir,filein))\n",
    "    one = timeit.timeit(lambda: cdo.remap(tfile + ',' + wfile, input = os.path.join(indir,filein), returnXDataset = True), number = nr)\n",
    "    #print(filein + ': Exectime CDO Remap ' + str(one/nr))\n",
    "\n",
    "    # SMM\n",
    "    xfield = xr.open_mfdataset(os.path.join(indir,filein))\n",
    "    wfield = cdo_generate_weights(os.path.join(indir,filein), tfile, method = 'con')\n",
    "    interpolator = Regridder(weights=wfield)\n",
    "    # var as the one which have time and not have bnds (could work)\n",
    "    myvar = [var for var in xfield.data_vars \n",
    "             if 'time' in xfield[var].dims and 'bnds' not in xfield[var].dims]\n",
    "    two = timeit.timeit(lambda: interpolator.regrid(xfield), number = nr)\n",
    "    three = timeit.timeit(lambda: interpolator.regrid(xfield[myvar]), number = nr)\n",
    "    four = timeit.timeit(lambda: interpolator.regrid(xfield[myvar], masked = False), number = nr)\n",
    "    data.append([one, two, three, four])\n",
    "\n",
    "    #print(filein + ': Exectime SMM Remap (DataSet) ' + str(two/nr))\n",
    "    #print(filein + ': Exectime SMM Remap (DataArray) ' + str(three/nr))\n",
    "    #print(filein + ': Exectime SMM Remap (DataSet+NoMask) ' + str(four/nr))\n",
    "\n",
    "cnames = ['CDO', 'SMM (Dataset)', 'SMM (DataArray)', 'SMM (DataSet+NoMask)']\n",
    "df = pd.DataFrame(data, index = filelist, columns = cnames)\n",
    "df.div(df[cnames[0]],axis =0)"
   ]
  },
  {
   "cell_type": "markdown",
   "metadata": {},
   "source": [
    "Normalize the speed up of the different configuration"
   ]
  }
 ],
 "metadata": {
  "kernelspec": {
   "display_name": "DevECmean4",
   "language": "python",
   "name": "python3"
  },
  "language_info": {
   "codemirror_mode": {
    "name": "ipython",
    "version": 3
   },
   "file_extension": ".py",
   "mimetype": "text/x-python",
   "name": "python",
   "nbconvert_exporter": "python",
   "pygments_lexer": "ipython3",
   "version": "3.10.8"
  },
  "orig_nbformat": 4,
  "vscode": {
   "interpreter": {
    "hash": "d1a27f430e855354fabe9b58ad426cbc88af57f8b66247655f5de977d5b44f64"
   }
  }
 },
 "nbformat": 4,
 "nbformat_minor": 2
}
